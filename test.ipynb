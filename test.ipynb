{
 "cells": [
  {
   "cell_type": "markdown",
   "metadata": {},
   "source": [
    "# Python Flood prediction"
   ]
  },
  {
   "cell_type": "markdown",
   "metadata": {},
   "source": [
    "### 1- Libraries required"
   ]
  },
  {
   "cell_type": "raw",
   "metadata": {},
   "source": [
    ".Pandas\n",
    " pip install pandas\n",
    "\n",
    ".Numpy\n",
    " pip install numpy\n",
    "\n",
    ".Scipy\n",
    " pip install scipy\n",
    ".Matplotlib\n",
    " pip install matplotlib"
   ]
  },
  {
   "cell_type": "markdown",
   "metadata": {},
   "source": [
    "### 2- Dataset"
   ]
  },
  {
   "cell_type": "raw",
   "metadata": {},
   "source": [
    "La base de données contient les informations sur la pluviométriques et si elle a entrainé une innondation dans une rédion/Ville/département\n",
    "au cours des annnées précédentes. Ce dataset contient les données pluviométriques d'un Etat Indien appelé Kerala.\n",
    "Cependant, cette méthode peut être utilisée pour la prédiction de l'inondation pour n'importe quel Etat/Ville/Région, avec les données fournies et\n",
    "appropriée.(lien de données \"https://drive.google.com/file/d/13A5iG_F_8iim4px9Mj8fwFNL1Z7mSH_6/view\")\n",
    "\n",
    "En utilisant ce jeu de données, tous les 10 jours, nous prenons les précipitations moyennes et les cartographions sur un graphique. Nous prenons ces données de précipitations \n",
    "annuelles comme entrées à notre modèle ML et si elles induisent ou non une inondation comme en sortie sortie. \n",
    "Nous formons et sauvegardons notre modèle (en fonction de certaines valeurs de seuil de précipitations quotidiennes dans le jeu de données)\n",
    "\n",
    "Notre approche principale de ce problème est la classification binaire, utilisant des algorithmes simples en apprentissage automatique (régression linéaire ou régression logistique) et xgboost(Extreme Gradient Boosting) pour améliorer les performance \n",
    "de notre modèle. La précision peut être augmentée en ajoutant plus de features telles que le type de terrain, sa position, etc."
   ]
  },
  {
   "cell_type": "code",
   "execution_count": 1,
   "metadata": {},
   "outputs": [],
   "source": [
    "import pandas as pd\n",
    "import matplotlib.pyplot as plt\n",
    "import numpy as np"
   ]
  },
  {
   "cell_type": "code",
   "execution_count": 2,
   "metadata": {},
   "outputs": [
    {
     "data": {
      "image/png": "[encoded data removed]",
      "text/plain": [
       "<Figure size 432x288 with 1 Axes>"
      ]
     },
     "metadata": {
      "needs_background": "light"
     },
     "output_type": "display_data"
    }
   ],
   "source": [
    "x=pd.read_csv(\"D:/Jupyter/Simplon/Innondation/kerela.csv\")\n",
    "y=pd.read_csv(\"D:/Jupyter/Simplon/Innondation/kerela.csv\")\n",
    "\n",
    "y1=list(x[\"YEAR\"])\n",
    "x1=list(x[\"Jun-Sep\"])\n",
    "z1=list(x[\"JUN\"])\n",
    "w1=list(x[\"MAY\"])\n",
    "\n",
    "plt.plot(y1,x1,'*')\n",
    "plt.show()"
   ]
  },
  {
   "cell_type": "markdown",
   "metadata": {},
   "source": [
    "### 3- Creation de la variable cible indiquant s'il y a inondation ou non"
   ]
  },
  {
   "cell_type": "code",
   "execution_count": 3,
   "metadata": {},
   "outputs": [],
   "source": [
    "flood=[]\n",
    "june=[]\n",
    "sub=[]\n",
    "#CREATING A NEW COLUMN WITH BINARY CLASSIFICATION DEPENDING IF THAT \n",
    "#YEAR HAD FLOODED OR NOT, USING RAINFALL OF THAT YEAR AS THRESHOLD\n",
    "\n",
    "for i in range(0,len(x1)):\n",
    "    if x1[i]>2400:\n",
    "        flood.append(\"1\")\n",
    "    else:\n",
    "        flood.append(\"0\")\n",
    "#APPROAXIMATELY FINDING THE RAINFALL DATA FOR 10 DAYS FOR THE MONTH OF \n",
    "#JUNE IN EVERY YEAR FROM 1901 TO 2015\n",
    "for k in range(0,len(x1)):\n",
    "    june.append(z1[k]/3)\n",
    "\n",
    "#FINDING THE INCREASE IN RAINFALL FROM THE MONTH OF MAY \n",
    "#TO THE MONTH OF JUNE IN EVERY YEAR FROM 1901 TO 2015\n",
    "for k in range(0,len(x1)):\n",
    "    sub.append(abs(w1[k]-z1[k]))\n",
    "\n",
    "df=pd.DataFrame({\"flood\":flood})\n",
    "df1=pd.DataFrame({\"per_10_days\":june})\n",
    "\n",
    "x[\"flood\"]=flood\n",
    "x[\"avgjune\"]=june\n",
    "x[\"sub\"]=sub\n",
    "#SAVING THE NEW CSV FILE WITH THE NEW COLOUMNS\n",
    "x.to_csv(\"new.csv\")"
   ]
  },
  {
   "cell_type": "markdown",
   "metadata": {},
   "source": [
    "### 4- Model Training "
   ]
  },
  {
   "cell_type": "markdown",
   "metadata": {},
   "source": [
    "#### a-Logistic regression"
   ]
  },
  {
   "cell_type": "code",
   "execution_count": 4,
   "metadata": {},
   "outputs": [
    {
     "name": "stdout",
     "output_type": "stream",
     "text": [
      "0.8608695652173913\n"
     ]
    }
   ],
   "source": [
    "import scipy\n",
    "from scipy.stats import spearmanr\n",
    "from sklearn.ensemble import RandomForestClassifier\n",
    "from sklearn.preprocessing import scale \n",
    "from sklearn.linear_model import LogisticRegression\n",
    "from sklearn.model_selection import train_test_split\n",
    "from sklearn import preprocessing\n",
    "\n",
    "X=x.iloc[:,[16,20,21]].values\n",
    "y1=x.iloc[:,19].values\n",
    "\n",
    "(X_train,X_test,Y_tain,Y_test)=train_test_split(x1,y1,random_state=0)\n",
    "\n",
    "lr=LogisticRegression()\n",
    "lr.fit(X,y1)\n",
    "print(lr.score(X,y1))"
   ]
  },
  {
   "cell_type": "markdown",
   "metadata": {},
   "source": [
    "#### b- Prediction  "
   ]
  },
  {
   "cell_type": "code",
   "execution_count": 5,
   "metadata": {},
   "outputs": [
    {
     "name": "stdout",
     "output_type": "stream",
     "text": [
      "0 -chances of flood\n",
      "0 -chances of flood\n"
     ]
    }
   ],
   "source": [
    "March_May_avg=280\n",
    "avg_past_10days_rain=140\n",
    "avg_increase_rain_may_june=250\n",
    "\n",
    "March_May_avg2=1000\n",
    "avg_past_10days_rain2=1000\n",
    "avg_increase_rain_may_june2=1000\n",
    "\n",
    "f1=[[March_May_avg,avg_past_10days_rain,avg_increase_rain_may_june]]\n",
    "f2=[[March_May_avg2,avg_past_10days_rain2,avg_increase_rain_may_june2]]\n",
    "predict1= np.argmax(lr.predict(f1))\n",
    "predict2=np.argmax(lr.predict(f2))\n",
    "#print(predict1)\n",
    "#print(predict2)\n",
    "if(predict1==0):\n",
    "    print(predict1, \"-chances of flood\")\n",
    "if(predict2==0):\n",
    "    print(predict2, \"-chances of flood\")\n",
    "if(predict1==1):\n",
    "    print(predict1,\"-no chances of flood\")\n",
    "if(predict2==1):\n",
    "    print(predict2, \"-no chances of flood\")"
   ]
  },
  {
   "cell_type": "markdown",
   "metadata": {},
   "source": [
    "#### c-xgboost"
   ]
  },
  {
   "cell_type": "code",
   "execution_count": 6,
   "metadata": {},
   "outputs": [],
   "source": [
    "# xgboost n°1\n",
    "import xgboost as xgb\n",
    "from xgboost.sklearn import XGBClassifier"
   ]
  },
  {
   "cell_type": "code",
   "execution_count": 7,
   "metadata": {},
   "outputs": [
    {
     "name": "stdout",
     "output_type": "stream",
     "text": [
      "0.991304347826087\n"
     ]
    }
   ],
   "source": [
    "xgb_clf = XGBClassifier().fit(X,y1)\n",
    "print(xgb_clf.score(X,y1))"
   ]
  },
  {
   "cell_type": "code",
   "execution_count": 8,
   "metadata": {},
   "outputs": [
    {
     "name": "stdout",
     "output_type": "stream",
     "text": [
      "0 -chances of flood\n",
      "0 -chances of flood\n"
     ]
    }
   ],
   "source": [
    "March_May_avg=280\n",
    "avg_past_10days_rain=140\n",
    "avg_increase_rain_may_june=250\n",
    "\n",
    "March_May_avg2=1000\n",
    "avg_past_10days_rain2=1000\n",
    "avg_increase_rain_may_june2=1000\n",
    "\n",
    "f1=[[March_May_avg,avg_past_10days_rain,avg_increase_rain_may_june]]\n",
    "f2=[[March_May_avg2,avg_past_10days_rain2,avg_increase_rain_may_june2]]\n",
    "predict1= np.argmax(xgb_clf.predict(f1))\n",
    "predict2=np.argmax(xgb_clf.predict(f2))\n",
    "#print(predict1)\n",
    "#print(predict2)\n",
    "if(predict1==0):\n",
    "    print(predict1, \"-chances of flood\")\n",
    "if(predict2==0):\n",
    "    print(predict2, \"-chances of flood\")\n",
    "if(predict1==1):\n",
    "    print(predict1,\"-no chances of flood\")\n",
    "if(predict2==1):\n",
    "    print(predict2, \"-no chances of flood\")"
   ]
  }
 ],
 "metadata": {
  "kernelspec": {
   "display_name": "Python 3",
   "language": "python",
   "name": "python3"
  },
  "language_info": {
   "codemirror_mode": {
    "name": "ipython",
    "version": 3
   },
   "file_extension": ".py",
   "mimetype": "text/x-python",
   "name": "python",
   "nbconvert_exporter": "python",
   "pygments_lexer": "ipython3",
   "version": "3.7.6"
  }
 },
 "nbformat": 4,
 "nbformat_minor": 4
}
